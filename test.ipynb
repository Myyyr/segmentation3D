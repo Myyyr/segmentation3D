{
 "cells": [
  {
   "cell_type": "code",
   "execution_count": 1,
   "metadata": {},
   "outputs": [],
   "source": [
    "def count_parameters(model): \n",
    "    return sum(p.numel() for p in model.parameters() if p.requires_grad)"
   ]
  },
  {
   "cell_type": "markdown",
   "metadata": {},
   "source": [
    "### Reversible"
   ]
  },
  {
   "cell_type": "code",
   "execution_count": 2,
   "metadata": {},
   "outputs": [
    {
     "name": "stdout",
     "output_type": "stream",
     "text": [
      "atlas_revunet_3D_5_v2\n"
     ]
    }
   ],
   "source": [
    "import expconfigs.multi_atlas_revunet_01_v2 as cfg_rev\n",
    "excfg_rev = cfg_rev.ExpConfig()\n",
    "nr = (count_parameters(excfg_rev.net))\n",
    "print(excfg_rev.experiment_name)"
   ]
  },
  {
   "cell_type": "markdown",
   "metadata": {},
   "source": [
    "### Classic"
   ]
  },
  {
   "cell_type": "code",
   "execution_count": 3,
   "metadata": {},
   "outputs": [
    {
     "name": "stderr",
     "output_type": "stream",
     "text": [
      "/home/myr/these/segmentation3D/models/networks_other.py:42: UserWarning: nn.init.kaiming_normal is now deprecated in favor of nn.init.kaiming_normal_.\n",
      "  init.kaiming_normal(m.weight.data, a=0, mode='fan_in')\n"
     ]
    }
   ],
   "source": [
    "import expconfigs.multi_atlas_unet_res01_v2 as cfg_cla\n",
    "excfg_cla = cfg_cla.ExpConfig()\n",
    "nc = (count_parameters(excfg_cla.net))"
   ]
  },
  {
   "cell_type": "markdown",
   "metadata": {},
   "source": [
    "### Compare"
   ]
  },
  {
   "cell_type": "code",
   "execution_count": 6,
   "metadata": {},
   "outputs": [
    {
     "name": "stdout",
     "output_type": "stream",
     "text": [
      "rev : 114557582\n",
      "cla : 94122318\n",
      "nc/nr : 0.8216157879449655\n",
      "nr/nc : 1.2171139049082917\n",
      "min : 0.8216157879449655\n"
     ]
    }
   ],
   "source": [
    "print(\"rev :\", nr)\n",
    "print(\"cla :\", nc)\n",
    "print(\"nc/nr :\", nc/nr)\n",
    "print(\"nr/nc :\", nr/nc)\n",
    "print('min :', min(nc/nr, nr/nc))"
   ]
  },
  {
   "cell_type": "code",
   "execution_count": 4,
   "metadata": {},
   "outputs": [
    {
     "name": "stdout",
     "output_type": "stream",
     "text": [
      "rev : 76837774\n",
      "cla : 94122318\n",
      "nc/nr : 1.2249485259684905\n",
      "nr/nc : 0.8163608337822704\n",
      "min : 0.8163608337822704\n"
     ]
    }
   ],
   "source": [
    "print(\"rev :\", nr)\n",
    "print(\"cla :\", nc)\n",
    "print(\"nc/nr :\", nc/nr)\n",
    "print(\"nr/nc :\", nr/nc)\n",
    "print('min :', min(nc/nr, nr/nc))"
   ]
  },
  {
   "cell_type": "code",
   "execution_count": 4,
   "metadata": {},
   "outputs": [
    {
     "name": "stdout",
     "output_type": "stream",
     "text": [
      "rev : 39117966\n",
      "cla : 94122318\n",
      "nc/nr : 2.406114827135951\n",
      "nr/nc : 0.41560776265624905\n",
      "min : 0.41560776265624905\n"
     ]
    }
   ],
   "source": [
    "print(\"rev :\", nr)\n",
    "print(\"cla :\", nc)\n",
    "print(\"nc/nr :\", nc/nr)\n",
    "print(\"nr/nc :\", nr/nc)\n",
    "print('min :', min(nc/nr, nr/nc))"
   ]
  },
  {
   "cell_type": "code",
   "execution_count": null,
   "metadata": {},
   "outputs": [],
   "source": []
  },
  {
   "cell_type": "code",
   "execution_count": null,
   "metadata": {},
   "outputs": [],
   "source": []
  },
  {
   "cell_type": "code",
   "execution_count": null,
   "metadata": {},
   "outputs": [],
   "source": []
  },
  {
   "cell_type": "code",
   "execution_count": null,
   "metadata": {},
   "outputs": [],
   "source": []
  },
  {
   "cell_type": "code",
   "execution_count": null,
   "metadata": {},
   "outputs": [],
   "source": []
  }
 ],
 "metadata": {
  "kernelspec": {
   "display_name": "Python 3",
   "language": "python",
   "name": "python3"
  },
  "language_info": {
   "codemirror_mode": {
    "name": "ipython",
    "version": 3
   },
   "file_extension": ".py",
   "mimetype": "text/x-python",
   "name": "python",
   "nbconvert_exporter": "python",
   "pygments_lexer": "ipython3",
   "version": "3.6.10"
  }
 },
 "nbformat": 4,
 "nbformat_minor": 4
}
